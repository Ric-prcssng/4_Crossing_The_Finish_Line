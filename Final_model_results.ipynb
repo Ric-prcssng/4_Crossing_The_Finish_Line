{
  "nbformat": 4,
  "nbformat_minor": 0,
  "metadata": {
    "colab": {
      "provenance": []
    },
    "kernelspec": {
      "name": "python3",
      "display_name": "Python 3"
    },
    "language_info": {
      "name": "python"
    }
  },
  "cells": [
    {
      "cell_type": "markdown",
      "source": [
        "skipping bad lines -->"
      ],
      "metadata": {
        "id": "KHvRVzWYhBzW"
      }
    },
    {
      "cell_type": "code",
      "source": [
        "import pandas as pd\n",
        "df = pd.read_csv('/content/songs_normalize.csv', on_bad_lines='skip')\n",
        "print(df.columns)\n",
        "print(df.head())\n",
        "print(df.info())"
      ],
      "metadata": {
        "colab": {
          "base_uri": "https://localhost:8080/"
        },
        "id": "z6649YESgkFs",
        "outputId": "4fafb05e-f2f5-4a87-c539-6666e4e799ae"
      },
      "execution_count": null,
      "outputs": [
        {
          "output_type": "stream",
          "name": "stdout",
          "text": [
            "Index(['artist', 'song', 'duration_ms', 'explicit', 'year', 'popularity',\n",
            "       'danceability', 'energy', 'key', 'loudness', 'mode', 'speechiness',\n",
            "       'acousticness', 'instrumentalness', 'liveness', 'valence', 'tempo',\n",
            "       'genre;'],\n",
            "      dtype='object')\n",
            "                                              artist                    song  \\\n",
            "0                                     Britney Spears  Oops!...I Did It Again   \n",
            "1  blink-182,All The Small Things,167066,False,19...                     NaN   \n",
            "2  Faith Hill,Breathe,250546,False,1999,66,0.529,...                     NaN   \n",
            "3  Bon Jovi,It's My Life,224493,False,2000,78,0.5...                     NaN   \n",
            "4                                             *NSYNC             Bye Bye Bye   \n",
            "\n",
            "   duration_ms explicit    year  popularity  danceability  energy  key  \\\n",
            "0     211160.0    False  2000.0        77.0         0.751   0.834  1.0   \n",
            "1          NaN      NaN     NaN         NaN           NaN     NaN  NaN   \n",
            "2          NaN      NaN     NaN         NaN           NaN     NaN  NaN   \n",
            "3          NaN      NaN     NaN         NaN           NaN     NaN  NaN   \n",
            "4     200560.0    False  2000.0        65.0         0.614   0.928  8.0   \n",
            "\n",
            "   loudness  mode  speechiness  acousticness  instrumentalness  liveness  \\\n",
            "0    -5.444   0.0       0.0437        0.3000          0.000018    0.3550   \n",
            "1       NaN   NaN          NaN           NaN               NaN       NaN   \n",
            "2       NaN   NaN          NaN           NaN               NaN       NaN   \n",
            "3       NaN   NaN          NaN           NaN               NaN       NaN   \n",
            "4    -4.806   0.0       0.0516        0.0408          0.001040    0.0845   \n",
            "\n",
            "   valence    tempo genre;  \n",
            "0    0.894   95.053   pop;  \n",
            "1      NaN      NaN    NaN  \n",
            "2      NaN      NaN    NaN  \n",
            "3      NaN      NaN    NaN  \n",
            "4    0.879  172.656   pop;  \n",
            "<class 'pandas.core.frame.DataFrame'>\n",
            "RangeIndex: 1999 entries, 0 to 1998\n",
            "Data columns (total 18 columns):\n",
            " #   Column            Non-Null Count  Dtype  \n",
            "---  ------            --------------  -----  \n",
            " 0   artist            1999 non-null   object \n",
            " 1   song              703 non-null    object \n",
            " 2   duration_ms       703 non-null    float64\n",
            " 3   explicit          703 non-null    object \n",
            " 4   year              703 non-null    float64\n",
            " 5   popularity        703 non-null    float64\n",
            " 6   danceability      703 non-null    float64\n",
            " 7   energy            703 non-null    float64\n",
            " 8   key               703 non-null    float64\n",
            " 9   loudness          703 non-null    float64\n",
            " 10  mode              703 non-null    float64\n",
            " 11  speechiness       703 non-null    float64\n",
            " 12  acousticness      703 non-null    float64\n",
            " 13  instrumentalness  703 non-null    float64\n",
            " 14  liveness          703 non-null    float64\n",
            " 15  valence           703 non-null    float64\n",
            " 16  tempo             703 non-null    float64\n",
            " 17  genre;            703 non-null    object \n",
            "dtypes: float64(14), object(4)\n",
            "memory usage: 281.2+ KB\n",
            "None\n"
          ]
        }
      ]
    },
    {
      "cell_type": "code",
      "source": [
        "df = df.loc[:, ~df.columns.str.contains('^Unnamed')]\n",
        "df.columns = df.columns.str.strip()"
      ],
      "metadata": {
        "id": "QJWMGUNzhGAU"
      },
      "execution_count": null,
      "outputs": []
    },
    {
      "cell_type": "markdown",
      "source": [
        "reenaming genre wthout ;"
      ],
      "metadata": {
        "id": "l2tIiTzyhfL8"
      }
    },
    {
      "cell_type": "code",
      "source": [
        "df = df.rename(columns={'genre;': 'genre'})"
      ],
      "metadata": {
        "id": "IYq9X3ZphcpM"
      },
      "execution_count": null,
      "outputs": []
    },
    {
      "cell_type": "markdown",
      "source": [
        "cleaning genre values"
      ],
      "metadata": {
        "id": "Mx-8R88LheG9"
      }
    },
    {
      "cell_type": "code",
      "source": [
        "df['genre'] = df['genre'].str.strip().str.replace(';', '')"
      ],
      "metadata": {
        "id": "2Ja87S6RhlkE"
      },
      "execution_count": null,
      "outputs": []
    },
    {
      "cell_type": "markdown",
      "source": [
        "double checking numeric columns if theyre really numeric:"
      ],
      "metadata": {
        "id": "_zO4ESjOhns-"
      }
    },
    {
      "cell_type": "code",
      "source": [
        "numeric_cols = ['duration_ms', 'popularity', 'danceability', 'energy', 'loudness', 'tempo', 'valence']\n",
        "\n",
        "for col in numeric_cols:\n",
        "    df[col] = pd.to_numeric(df[col], errors='coerce')"
      ],
      "metadata": {
        "id": "o84mL4Jzhr_g"
      },
      "execution_count": null,
      "outputs": []
    },
    {
      "cell_type": "code",
      "source": [
        "df = df.dropna(subset=['genre'] + numeric_cols)\n",
        "from sklearn.preprocessing import StandardScaler\n",
        "\n",
        "features = ['danceability', 'energy', 'loudness', 'tempo', 'valence']\n",
        "scaler = StandardScaler()\n",
        "X = scaler.fit_transform(df[features])"
      ],
      "metadata": {
        "id": "4gHhPcG4hvI-"
      },
      "execution_count": null,
      "outputs": []
    },
    {
      "cell_type": "markdown",
      "source": [
        "fit nearest neighbiurs mdl"
      ],
      "metadata": {
        "id": "83_xu4Xch0FP"
      }
    },
    {
      "cell_type": "code",
      "source": [
        "from sklearn.neighbors import NearestNeighbors\n",
        "nn = NearestNeighbors(n_neighbors=5)\n",
        "nn.fit(X)\n",
        "distances, indices = nn.kneighbors(X[0].reshape(1, -1))\n",
        "print(\"Top 5 similar songs to:\", df.iloc[0]['song'])\n",
        "print(df.iloc[indices[0]][['artist', 'song', 'genre']])"
      ],
      "metadata": {
        "colab": {
          "base_uri": "https://localhost:8080/"
        },
        "id": "py_YGHEYh4af",
        "outputId": "7faefdfe-4709-4ab4-e122-c87e7f5ca108"
      },
      "execution_count": null,
      "outputs": [
        {
          "output_type": "stream",
          "name": "stdout",
          "text": [
            "Top 5 similar songs to: Oops!...I Did It Again\n",
            "              artist                            song    genre\n",
            "0     Britney Spears          Oops!...I Did It Again      pop\n",
            "283           *NSYNC                      Girlfriend      pop\n",
            "373            JAY-Z                  Excuse Me Miss  hip hop\n",
            "98    Britney Spears                           Lucky      pop\n",
            "1882      Bruno Mars  Finesse - Remix; feat. Cardi B      pop\n"
          ]
        }
      ]
    },
    {
      "cell_type": "markdown",
      "source": [
        "1-xpand ml models\n"
      ],
      "metadata": {
        "id": "2cA4OsMpkj9A"
      }
    },
    {
      "cell_type": "markdown",
      "source": [
        "-Random forest for classification or regression vibes\n",
        "-Logistic regression iif im classifying genres\n",
        "-Linear Regression if im predicting popularity or danceability"
      ],
      "metadata": {
        "id": "IDjiD6SUkww6"
      }
    },
    {
      "cell_type": "code",
      "source": [
        "from sklearn.model_selection import train_test_split\n",
        "X = df[features]\n",
        "y = df['genre']\n",
        "X_train, X_test, y_train, y_test = train_test_split(X, y, test_size=0.3, random_state=42)"
      ],
      "metadata": {
        "id": "bIQhv5UBlGC9"
      },
      "execution_count": null,
      "outputs": []
    },
    {
      "cell_type": "markdown",
      "source": [
        "train model with x_train and y_train --> then x_test y_test"
      ],
      "metadata": {
        "id": "B7MY0HZDnScv"
      }
    },
    {
      "cell_type": "code",
      "source": [
        "from sklearn.preprocessing import StandardScaler\n",
        "from sklearn.linear_model import LogisticRegression\n",
        "from sklearn.metrics import accuracy_score, classification_report\n",
        "scaler = StandardScaler()\n",
        "X_train_scaled = scaler.fit_transform(X_train)\n",
        "X_test_scaled = scaler.transform(X_test)\n",
        "model = LogisticRegression(max_iter=1000)\n",
        "\n",
        "model.fit(X_train_scaled, y_train)\n",
        "y_pred = model.predict(X_test_scaled)\n",
        "acc = accuracy_score(y_test, y_pred)\n",
        "print(f\"Accuracy: {acc:.3f}\")\n",
        "print(\"Classification Report:\")\n",
        "print(classification_report(y_test, y_pred))"
      ],
      "metadata": {
        "colab": {
          "base_uri": "https://localhost:8080/"
        },
        "id": "9qO0DM7WnY-u",
        "outputId": "4c567195-1412-4857-a4dc-3a13f08d333a"
      },
      "execution_count": null,
      "outputs": [
        {
          "output_type": "stream",
          "name": "stdout",
          "text": [
            "Accuracy: 0.578\n",
            "Classification Report:\n",
            "                  precision    recall  f1-score   support\n",
            "\n",
            "Dance/Electronic       0.00      0.00      0.00        12\n",
            "             R&B       0.00      0.00      0.00         5\n",
            "         country       0.00      0.00      0.00         2\n",
            "         hip hop       0.71      0.12      0.20        42\n",
            "           latin       0.00      0.00      0.00         5\n",
            "           metal       0.00      0.00      0.00         3\n",
            "             pop       0.57      0.99      0.73       117\n",
            "            rock       0.50      0.06      0.10        18\n",
            "           set()       0.00      0.00      0.00         7\n",
            "\n",
            "        accuracy                           0.58       211\n",
            "       macro avg       0.20      0.13      0.11       211\n",
            "    weighted avg       0.50      0.58      0.45       211\n",
            "\n"
          ]
        },
        {
          "output_type": "stream",
          "name": "stderr",
          "text": [
            "/usr/local/lib/python3.11/dist-packages/sklearn/metrics/_classification.py:1565: UndefinedMetricWarning: Precision is ill-defined and being set to 0.0 in labels with no predicted samples. Use `zero_division` parameter to control this behavior.\n",
            "  _warn_prf(average, modifier, f\"{metric.capitalize()} is\", len(result))\n",
            "/usr/local/lib/python3.11/dist-packages/sklearn/metrics/_classification.py:1565: UndefinedMetricWarning: Precision is ill-defined and being set to 0.0 in labels with no predicted samples. Use `zero_division` parameter to control this behavior.\n",
            "  _warn_prf(average, modifier, f\"{metric.capitalize()} is\", len(result))\n",
            "/usr/local/lib/python3.11/dist-packages/sklearn/metrics/_classification.py:1565: UndefinedMetricWarning: Precision is ill-defined and being set to 0.0 in labels with no predicted samples. Use `zero_division` parameter to control this behavior.\n",
            "  _warn_prf(average, modifier, f\"{metric.capitalize()} is\", len(result))\n"
          ]
        }
      ]
    },
    {
      "cell_type": "markdown",
      "source": [
        "2-random forest classifier"
      ],
      "metadata": {
        "id": "snfS419munhY"
      }
    },
    {
      "cell_type": "code",
      "source": [
        "from sklearn.ensemble import RandomForestClassifier\n",
        "from sklearn.metrics import classification_report, accuracy_score\n",
        "rf_model = RandomForestClassifier(n_estimators=100, random_state=42)\n",
        "\n",
        "\n",
        "rf_model.fit(X_train_scaled, y_train)\n",
        "y_pred_rf = rf_model.predict(X_test_scaled)\n",
        "acc_rf = accuracy_score(y_test, y_pred_rf)\n",
        "print(f\"Random Forest Accuracy: {acc_rf:.3f}\")\n",
        "print(\"Random Forest Classification Report:\")\n",
        "print(classification_report(y_test, y_pred_rf))"
      ],
      "metadata": {
        "colab": {
          "base_uri": "https://localhost:8080/"
        },
        "id": "QlcV3Kmnuu2_",
        "outputId": "ceaf4981-2296-4164-a1c9-0fb69cc6261c"
      },
      "execution_count": null,
      "outputs": [
        {
          "output_type": "stream",
          "name": "stdout",
          "text": [
            "Random Forest Accuracy: 0.588\n",
            "Random Forest Classification Report:\n",
            "                  precision    recall  f1-score   support\n",
            "\n",
            "Dance/Electronic       0.00      0.00      0.00        12\n",
            "             R&B       0.00      0.00      0.00         5\n",
            "         country       1.00      0.50      0.67         2\n",
            "         hip hop       0.70      0.38      0.49        42\n",
            "           latin       0.00      0.00      0.00         5\n",
            "           metal       0.00      0.00      0.00         3\n",
            "             pop       0.60      0.91      0.72       117\n",
            "            rock       0.14      0.06      0.08        18\n",
            "           set()       0.00      0.00      0.00         7\n",
            "\n",
            "        accuracy                           0.59       211\n",
            "       macro avg       0.27      0.20      0.22       211\n",
            "    weighted avg       0.49      0.59      0.51       211\n",
            "\n"
          ]
        },
        {
          "output_type": "stream",
          "name": "stderr",
          "text": [
            "/usr/local/lib/python3.11/dist-packages/sklearn/metrics/_classification.py:1565: UndefinedMetricWarning: Precision is ill-defined and being set to 0.0 in labels with no predicted samples. Use `zero_division` parameter to control this behavior.\n",
            "  _warn_prf(average, modifier, f\"{metric.capitalize()} is\", len(result))\n",
            "/usr/local/lib/python3.11/dist-packages/sklearn/metrics/_classification.py:1565: UndefinedMetricWarning: Precision is ill-defined and being set to 0.0 in labels with no predicted samples. Use `zero_division` parameter to control this behavior.\n",
            "  _warn_prf(average, modifier, f\"{metric.capitalize()} is\", len(result))\n",
            "/usr/local/lib/python3.11/dist-packages/sklearn/metrics/_classification.py:1565: UndefinedMetricWarning: Precision is ill-defined and being set to 0.0 in labels with no predicted samples. Use `zero_division` parameter to control this behavior.\n",
            "  _warn_prf(average, modifier, f\"{metric.capitalize()} is\", len(result))\n"
          ]
        }
      ]
    },
    {
      "cell_type": "markdown",
      "source": [
        "3-trying knn"
      ],
      "metadata": {
        "id": "emo4IKz6wPzq"
      }
    },
    {
      "cell_type": "code",
      "source": [
        "from sklearn.neighbors import KNeighborsClassifier\n",
        "knn_model = KNeighborsClassifier(n_neighbors=5)\n",
        "knn_model.fit(X_train_scaled, y_train)\n",
        "y_pred_knn = knn_model.predict(X_test_scaled)\n",
        "\n",
        "acc_knn = accuracy_score(y_test, y_pred_knn)\n",
        "print(f\"kNN Accuracy: {acc_knn:.3f}\")\n",
        "print(\"kNN Classification Report:\")\n",
        "print(classification_report(y_test, y_pred_knn))"
      ],
      "metadata": {
        "colab": {
          "base_uri": "https://localhost:8080/"
        },
        "id": "NPo9kNE3wSwE",
        "outputId": "83addfb8-801e-49e5-bbfa-8491df34d25e"
      },
      "execution_count": null,
      "outputs": [
        {
          "output_type": "stream",
          "name": "stdout",
          "text": [
            "kNN Accuracy: 0.550\n",
            "kNN Classification Report:\n",
            "                  precision    recall  f1-score   support\n",
            "\n",
            "Dance/Electronic       0.12      0.08      0.10        12\n",
            "             R&B       0.00      0.00      0.00         5\n",
            "         country       0.00      0.00      0.00         2\n",
            "         hip hop       0.50      0.19      0.28        42\n",
            "           latin       0.00      0.00      0.00         5\n",
            "           metal       0.00      0.00      0.00         3\n",
            "             pop       0.59      0.89      0.71       117\n",
            "            rock       0.50      0.17      0.25        18\n",
            "           set()       0.00      0.00      0.00         7\n",
            "\n",
            "        accuracy                           0.55       211\n",
            "       macro avg       0.19      0.15      0.15       211\n",
            "    weighted avg       0.48      0.55      0.47       211\n",
            "\n"
          ]
        },
        {
          "output_type": "stream",
          "name": "stderr",
          "text": [
            "/usr/local/lib/python3.11/dist-packages/sklearn/metrics/_classification.py:1565: UndefinedMetricWarning: Precision is ill-defined and being set to 0.0 in labels with no predicted samples. Use `zero_division` parameter to control this behavior.\n",
            "  _warn_prf(average, modifier, f\"{metric.capitalize()} is\", len(result))\n",
            "/usr/local/lib/python3.11/dist-packages/sklearn/metrics/_classification.py:1565: UndefinedMetricWarning: Precision is ill-defined and being set to 0.0 in labels with no predicted samples. Use `zero_division` parameter to control this behavior.\n",
            "  _warn_prf(average, modifier, f\"{metric.capitalize()} is\", len(result))\n",
            "/usr/local/lib/python3.11/dist-packages/sklearn/metrics/_classification.py:1565: UndefinedMetricWarning: Precision is ill-defined and being set to 0.0 in labels with no predicted samples. Use `zero_division` parameter to control this behavior.\n",
            "  _warn_prf(average, modifier, f\"{metric.capitalize()} is\", len(result))\n"
          ]
        }
      ]
    },
    {
      "cell_type": "markdown",
      "source": [
        "Winner..? RANDOM FOREST!.\n",
        "\n",
        "- best overall accuracy\n",
        "-better macro average\n",
        "BUT BAD for minority genres..."
      ],
      "metadata": {
        "id": "7v5-nRk6wm3t"
      }
    },
    {
      "cell_type": "code",
      "source": [
        "import matplotlib.pyplot as plt\n",
        "\n",
        "models = ['Logistic Regression', 'Random Forest', 'kNN']\n",
        "accuracies = [0.578, 0.588, 0.550]\n",
        "\n",
        "plt.figure(figsize=(8,5))\n",
        "plt.bar(models, accuracies, color=['#f77f00', '#003049', '#d62828'])\n",
        "plt.title('Model Accuracy Comparison')\n",
        "plt.ylabel('Accuracy')\n",
        "plt.ylim(0, 1)\n",
        "plt.grid(axis='y', linestyle='--', alpha=0.5)\n",
        "plt.show()\n"
      ],
      "metadata": {
        "colab": {
          "base_uri": "https://localhost:8080/",
          "height": 468
        },
        "id": "-KMQxeeEUhP7",
        "outputId": "04255aef-3ccb-4f00-e9a5-48b45b80c9a7"
      },
      "execution_count": null,
      "outputs": [
        {
          "output_type": "display_data",
          "data": {
            "text/plain": [
              "<Figure size 800x500 with 1 Axes>"
            ],
            "image/png": "[encoded data removed]"
          },
          "metadata": {}
        }
      ]
    }
  ]
}
